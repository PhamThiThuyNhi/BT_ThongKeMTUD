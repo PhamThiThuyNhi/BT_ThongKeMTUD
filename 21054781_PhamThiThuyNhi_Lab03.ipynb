{
 "cells": [
  {
   "cell_type": "markdown",
   "metadata": {},
   "source": [
    "# KHÁM PHÁ DỮ LIỆU\n",
    "\n",
    "Dữ liệu chứa trong file `tips.csv` chứa thông tin tiền tip của khách hàng tại một nhà hàng. Dữ liệu có các thông tin sau:\n",
    "\n",
    "- `total_bill`: tổng hoá đơn (USD)\n",
    "- `tip`: tiền tip/ tiền boa (USD)\n",
    "- `sex`: giới tính người thanh toán hóa đơn\n",
    "- `smoker`: có hút thuốc hay không\n",
    "- `day`: ngày trong tuần\n",
    "- `time`: thời gian dùng bữa(buổi sáng, buổi trưa, buổi tối)\n",
    "- `size`: số lượng người tham gia\n",
    "\n",
    "Bạn hãy thực hiện thống kê mô tả để tìm hiểu về hành vi tip của khách hàng tại nhà hàng"
   ]
  },
  {
   "cell_type": "markdown",
   "metadata": {},
   "source": [
    "1. Đọc dữ liệu\n",
    "2. Xoá cột `Unnamed: 0`\n",
    "3. Cho biết dữ liệu có bao nhiêu dòng, bao nhiêu thuộc tính.\n",
    "4. Trong các thuộc tính, thuộc tính nào là thuộc tính phân loại, thuộc tính nào là thuộc tính định lượng\n",
    "5. Có bao nhiêu nam, bao nhiêu nữ. Tỷ lệ bao nhiêu?\n",
    "6. Có bao nhiêu người hút thuốc. Tỷ lệ bao nhiêu?\n",
    "7. Ngày nào trong tuần khách hàng hay đến dùng bữa nhất. Tỷ lệ bao nhiêu?\n",
    "8. Nhà hàng phục vụ bữa ăn nào nhiều nhất (Breakfast, Lunch, Dinner)?\n",
    "9. Nhóm khách hàng dùng bữa tại nhà hàng nhiều nhất là bao nhiêu người?\n",
    "10. Trung bình trong một bữa ăn nhà hàng phục vụ mấy khách?"
   ]
  },
  {
   "cell_type": "code",
   "execution_count": 3,
   "metadata": {
    "tags": []
   },
   "outputs": [],
   "source": [
    "import pandas as pd\n",
    "import numpy as np"
   ]
  },
  {
   "cell_type": "markdown",
   "metadata": {},
   "source": [
    " 1. Đọc dữ liệu"
   ]
  },
  {
   "cell_type": "code",
   "execution_count": 4,
   "metadata": {
    "tags": []
   },
   "outputs": [
    {
     "data": {
      "text/html": [
       "<div>\n",
       "<style scoped>\n",
       "    .dataframe tbody tr th:only-of-type {\n",
       "        vertical-align: middle;\n",
       "    }\n",
       "\n",
       "    .dataframe tbody tr th {\n",
       "        vertical-align: top;\n",
       "    }\n",
       "\n",
       "    .dataframe thead th {\n",
       "        text-align: right;\n",
       "    }\n",
       "</style>\n",
       "<table border=\"1\" class=\"dataframe\">\n",
       "  <thead>\n",
       "    <tr style=\"text-align: right;\">\n",
       "      <th></th>\n",
       "      <th>Unnamed: 0</th>\n",
       "      <th>total_bill</th>\n",
       "      <th>tip</th>\n",
       "      <th>sex</th>\n",
       "      <th>smoker</th>\n",
       "      <th>day</th>\n",
       "      <th>time</th>\n",
       "      <th>size</th>\n",
       "    </tr>\n",
       "  </thead>\n",
       "  <tbody>\n",
       "    <tr>\n",
       "      <th>0</th>\n",
       "      <td>0</td>\n",
       "      <td>16.99</td>\n",
       "      <td>1.01</td>\n",
       "      <td>Female</td>\n",
       "      <td>No</td>\n",
       "      <td>Sun</td>\n",
       "      <td>Dinner</td>\n",
       "      <td>2</td>\n",
       "    </tr>\n",
       "    <tr>\n",
       "      <th>1</th>\n",
       "      <td>1</td>\n",
       "      <td>10.34</td>\n",
       "      <td>1.66</td>\n",
       "      <td>Male</td>\n",
       "      <td>No</td>\n",
       "      <td>Sun</td>\n",
       "      <td>Dinner</td>\n",
       "      <td>3</td>\n",
       "    </tr>\n",
       "    <tr>\n",
       "      <th>2</th>\n",
       "      <td>2</td>\n",
       "      <td>21.01</td>\n",
       "      <td>3.50</td>\n",
       "      <td>Male</td>\n",
       "      <td>No</td>\n",
       "      <td>Sun</td>\n",
       "      <td>Dinner</td>\n",
       "      <td>3</td>\n",
       "    </tr>\n",
       "    <tr>\n",
       "      <th>3</th>\n",
       "      <td>3</td>\n",
       "      <td>23.68</td>\n",
       "      <td>3.31</td>\n",
       "      <td>Male</td>\n",
       "      <td>No</td>\n",
       "      <td>Sun</td>\n",
       "      <td>Dinner</td>\n",
       "      <td>2</td>\n",
       "    </tr>\n",
       "    <tr>\n",
       "      <th>4</th>\n",
       "      <td>4</td>\n",
       "      <td>24.59</td>\n",
       "      <td>3.61</td>\n",
       "      <td>Female</td>\n",
       "      <td>No</td>\n",
       "      <td>Sun</td>\n",
       "      <td>Dinner</td>\n",
       "      <td>4</td>\n",
       "    </tr>\n",
       "  </tbody>\n",
       "</table>\n",
       "</div>"
      ],
      "text/plain": [
       "   Unnamed: 0  total_bill   tip     sex smoker  day    time  size\n",
       "0           0       16.99  1.01  Female     No  Sun  Dinner     2\n",
       "1           1       10.34  1.66    Male     No  Sun  Dinner     3\n",
       "2           2       21.01  3.50    Male     No  Sun  Dinner     3\n",
       "3           3       23.68  3.31    Male     No  Sun  Dinner     2\n",
       "4           4       24.59  3.61  Female     No  Sun  Dinner     4"
      ]
     },
     "execution_count": 4,
     "metadata": {},
     "output_type": "execute_result"
    }
   ],
   "source": [
    "# 1. Đọc dữ liệu\n",
    "data_df = pd.read_csv('./tips.csv')\n",
    "data_df.head()"
   ]
  },
  {
   "cell_type": "markdown",
   "metadata": {},
   "source": [
    "2. Xoá cột Unnamed: 0"
   ]
  },
  {
   "cell_type": "code",
   "execution_count": 5,
   "metadata": {
    "tags": []
   },
   "outputs": [
    {
     "data": {
      "text/html": [
       "<div>\n",
       "<style scoped>\n",
       "    .dataframe tbody tr th:only-of-type {\n",
       "        vertical-align: middle;\n",
       "    }\n",
       "\n",
       "    .dataframe tbody tr th {\n",
       "        vertical-align: top;\n",
       "    }\n",
       "\n",
       "    .dataframe thead th {\n",
       "        text-align: right;\n",
       "    }\n",
       "</style>\n",
       "<table border=\"1\" class=\"dataframe\">\n",
       "  <thead>\n",
       "    <tr style=\"text-align: right;\">\n",
       "      <th></th>\n",
       "      <th>total_bill</th>\n",
       "      <th>tip</th>\n",
       "      <th>sex</th>\n",
       "      <th>smoker</th>\n",
       "      <th>day</th>\n",
       "      <th>time</th>\n",
       "      <th>size</th>\n",
       "    </tr>\n",
       "  </thead>\n",
       "  <tbody>\n",
       "    <tr>\n",
       "      <th>0</th>\n",
       "      <td>16.99</td>\n",
       "      <td>1.01</td>\n",
       "      <td>Female</td>\n",
       "      <td>No</td>\n",
       "      <td>Sun</td>\n",
       "      <td>Dinner</td>\n",
       "      <td>2</td>\n",
       "    </tr>\n",
       "    <tr>\n",
       "      <th>1</th>\n",
       "      <td>10.34</td>\n",
       "      <td>1.66</td>\n",
       "      <td>Male</td>\n",
       "      <td>No</td>\n",
       "      <td>Sun</td>\n",
       "      <td>Dinner</td>\n",
       "      <td>3</td>\n",
       "    </tr>\n",
       "    <tr>\n",
       "      <th>2</th>\n",
       "      <td>21.01</td>\n",
       "      <td>3.50</td>\n",
       "      <td>Male</td>\n",
       "      <td>No</td>\n",
       "      <td>Sun</td>\n",
       "      <td>Dinner</td>\n",
       "      <td>3</td>\n",
       "    </tr>\n",
       "    <tr>\n",
       "      <th>3</th>\n",
       "      <td>23.68</td>\n",
       "      <td>3.31</td>\n",
       "      <td>Male</td>\n",
       "      <td>No</td>\n",
       "      <td>Sun</td>\n",
       "      <td>Dinner</td>\n",
       "      <td>2</td>\n",
       "    </tr>\n",
       "    <tr>\n",
       "      <th>4</th>\n",
       "      <td>24.59</td>\n",
       "      <td>3.61</td>\n",
       "      <td>Female</td>\n",
       "      <td>No</td>\n",
       "      <td>Sun</td>\n",
       "      <td>Dinner</td>\n",
       "      <td>4</td>\n",
       "    </tr>\n",
       "    <tr>\n",
       "      <th>...</th>\n",
       "      <td>...</td>\n",
       "      <td>...</td>\n",
       "      <td>...</td>\n",
       "      <td>...</td>\n",
       "      <td>...</td>\n",
       "      <td>...</td>\n",
       "      <td>...</td>\n",
       "    </tr>\n",
       "    <tr>\n",
       "      <th>239</th>\n",
       "      <td>29.03</td>\n",
       "      <td>5.92</td>\n",
       "      <td>Male</td>\n",
       "      <td>No</td>\n",
       "      <td>Sat</td>\n",
       "      <td>Dinner</td>\n",
       "      <td>3</td>\n",
       "    </tr>\n",
       "    <tr>\n",
       "      <th>240</th>\n",
       "      <td>27.18</td>\n",
       "      <td>2.00</td>\n",
       "      <td>Female</td>\n",
       "      <td>Yes</td>\n",
       "      <td>Sat</td>\n",
       "      <td>Dinner</td>\n",
       "      <td>2</td>\n",
       "    </tr>\n",
       "    <tr>\n",
       "      <th>241</th>\n",
       "      <td>22.67</td>\n",
       "      <td>2.00</td>\n",
       "      <td>Male</td>\n",
       "      <td>Yes</td>\n",
       "      <td>Sat</td>\n",
       "      <td>Dinner</td>\n",
       "      <td>2</td>\n",
       "    </tr>\n",
       "    <tr>\n",
       "      <th>242</th>\n",
       "      <td>17.82</td>\n",
       "      <td>1.75</td>\n",
       "      <td>Male</td>\n",
       "      <td>No</td>\n",
       "      <td>Sat</td>\n",
       "      <td>Dinner</td>\n",
       "      <td>2</td>\n",
       "    </tr>\n",
       "    <tr>\n",
       "      <th>243</th>\n",
       "      <td>18.78</td>\n",
       "      <td>3.00</td>\n",
       "      <td>Female</td>\n",
       "      <td>No</td>\n",
       "      <td>Thur</td>\n",
       "      <td>Dinner</td>\n",
       "      <td>2</td>\n",
       "    </tr>\n",
       "  </tbody>\n",
       "</table>\n",
       "<p>244 rows × 7 columns</p>\n",
       "</div>"
      ],
      "text/plain": [
       "     total_bill   tip     sex smoker   day    time  size\n",
       "0         16.99  1.01  Female     No   Sun  Dinner     2\n",
       "1         10.34  1.66    Male     No   Sun  Dinner     3\n",
       "2         21.01  3.50    Male     No   Sun  Dinner     3\n",
       "3         23.68  3.31    Male     No   Sun  Dinner     2\n",
       "4         24.59  3.61  Female     No   Sun  Dinner     4\n",
       "..          ...   ...     ...    ...   ...     ...   ...\n",
       "239       29.03  5.92    Male     No   Sat  Dinner     3\n",
       "240       27.18  2.00  Female    Yes   Sat  Dinner     2\n",
       "241       22.67  2.00    Male    Yes   Sat  Dinner     2\n",
       "242       17.82  1.75    Male     No   Sat  Dinner     2\n",
       "243       18.78  3.00  Female     No  Thur  Dinner     2\n",
       "\n",
       "[244 rows x 7 columns]"
      ]
     },
     "execution_count": 5,
     "metadata": {},
     "output_type": "execute_result"
    }
   ],
   "source": [
    "# 2. Xoá cột Unnamed: 0\n",
    "data_df.drop(columns=['Unnamed: 0'])"
   ]
  },
  {
   "cell_type": "markdown",
   "metadata": {},
   "source": [
    "3. Cho biết dữ liệu có bao nhiêu dòng, bao nhiêu thuộc tính."
   ]
  },
  {
   "cell_type": "code",
   "execution_count": 6,
   "metadata": {
    "tags": []
   },
   "outputs": [
    {
     "data": {
      "text/plain": [
       "(244, 8)"
      ]
     },
     "execution_count": 6,
     "metadata": {},
     "output_type": "execute_result"
    }
   ],
   "source": [
    "# 3. Cho biết dữ liệu có bao nhiêu dòng, bao nhiêu thuộc tính.\n",
    "data_df.shape"
   ]
  },
  {
   "cell_type": "code",
   "execution_count": 49,
   "metadata": {},
   "outputs": [
    {
     "data": {
      "text/html": [
       "<div>\n",
       "<style scoped>\n",
       "    .dataframe tbody tr th:only-of-type {\n",
       "        vertical-align: middle;\n",
       "    }\n",
       "\n",
       "    .dataframe tbody tr th {\n",
       "        vertical-align: top;\n",
       "    }\n",
       "\n",
       "    .dataframe thead th {\n",
       "        text-align: right;\n",
       "    }\n",
       "</style>\n",
       "<table border=\"1\" class=\"dataframe\">\n",
       "  <thead>\n",
       "    <tr style=\"text-align: right;\">\n",
       "      <th></th>\n",
       "      <th>Unnamed: 0</th>\n",
       "      <th>total_bill</th>\n",
       "      <th>tip</th>\n",
       "      <th>size</th>\n",
       "    </tr>\n",
       "  </thead>\n",
       "  <tbody>\n",
       "    <tr>\n",
       "      <th>count</th>\n",
       "      <td>244.000000</td>\n",
       "      <td>244.000000</td>\n",
       "      <td>244.000000</td>\n",
       "      <td>244.000000</td>\n",
       "    </tr>\n",
       "    <tr>\n",
       "      <th>mean</th>\n",
       "      <td>121.500000</td>\n",
       "      <td>19.785943</td>\n",
       "      <td>2.998279</td>\n",
       "      <td>2.569672</td>\n",
       "    </tr>\n",
       "    <tr>\n",
       "      <th>std</th>\n",
       "      <td>70.580923</td>\n",
       "      <td>8.902412</td>\n",
       "      <td>1.383638</td>\n",
       "      <td>0.951100</td>\n",
       "    </tr>\n",
       "    <tr>\n",
       "      <th>min</th>\n",
       "      <td>0.000000</td>\n",
       "      <td>3.070000</td>\n",
       "      <td>1.000000</td>\n",
       "      <td>1.000000</td>\n",
       "    </tr>\n",
       "    <tr>\n",
       "      <th>25%</th>\n",
       "      <td>60.750000</td>\n",
       "      <td>13.347500</td>\n",
       "      <td>2.000000</td>\n",
       "      <td>2.000000</td>\n",
       "    </tr>\n",
       "    <tr>\n",
       "      <th>50%</th>\n",
       "      <td>121.500000</td>\n",
       "      <td>17.795000</td>\n",
       "      <td>2.900000</td>\n",
       "      <td>2.000000</td>\n",
       "    </tr>\n",
       "    <tr>\n",
       "      <th>75%</th>\n",
       "      <td>182.250000</td>\n",
       "      <td>24.127500</td>\n",
       "      <td>3.562500</td>\n",
       "      <td>3.000000</td>\n",
       "    </tr>\n",
       "    <tr>\n",
       "      <th>max</th>\n",
       "      <td>243.000000</td>\n",
       "      <td>50.810000</td>\n",
       "      <td>10.000000</td>\n",
       "      <td>6.000000</td>\n",
       "    </tr>\n",
       "  </tbody>\n",
       "</table>\n",
       "</div>"
      ],
      "text/plain": [
       "       Unnamed: 0  total_bill         tip        size\n",
       "count  244.000000  244.000000  244.000000  244.000000\n",
       "mean   121.500000   19.785943    2.998279    2.569672\n",
       "std     70.580923    8.902412    1.383638    0.951100\n",
       "min      0.000000    3.070000    1.000000    1.000000\n",
       "25%     60.750000   13.347500    2.000000    2.000000\n",
       "50%    121.500000   17.795000    2.900000    2.000000\n",
       "75%    182.250000   24.127500    3.562500    3.000000\n",
       "max    243.000000   50.810000   10.000000    6.000000"
      ]
     },
     "execution_count": 49,
     "metadata": {},
     "output_type": "execute_result"
    }
   ],
   "source": [
    "data_df.describe()"
   ]
  },
  {
   "cell_type": "markdown",
   "metadata": {},
   "source": [
    "## 4.Trong các thuộc tính, thuộc tính nào là thuộc tính phân loại, thuộc tính nào là thuộc tính định lượng\n",
    "\n",
    "## Định tính\n",
    "day, sex, smoker, day\n",
    "\n",
    "## Định lượng\n",
    " total_bill, \n",
    " tip, \n",
    " size"
   ]
  },
  {
   "cell_type": "markdown",
   "metadata": {},
   "source": [
    "5. Có bao nhiêu nam, bao nhiêu nữ. Tỷ lệ bao nhiêu?"
   ]
  },
  {
   "cell_type": "code",
   "execution_count": 15,
   "metadata": {},
   "outputs": [
    {
     "name": "stdout",
     "output_type": "stream",
     "text": [
      "\n",
      "Tổng\n",
      "Male      157\n",
      "Female     87\n",
      "Name: sex, dtype: int64\n",
      "\n",
      "Tỷ lệ\n",
      "Male      64.344262\n",
      "Female    35.655738\n",
      "Name: sex, dtype: float64\n"
     ]
    }
   ],
   "source": [
    "# 5. Có bao nhiêu nam, bao nhiêu nữ. Tỷ lệ bao nhiêu?\n",
    "SEX_counts = data_df['sex'].value_counts()\n",
    "\n",
    "sex_rate =  SEX_counts/len(data_df) *100\n",
    "print(\"\\nTổng\")\n",
    "print(SEX_counts)\n",
    "print(\"\\nTỷ lệ\")\n",
    "print(sex_rate)"
   ]
  },
  {
   "cell_type": "markdown",
   "metadata": {},
   "source": [
    " 6. Có bao nhiêu người hút thuốc. Tỷ lệ bao nhiêu?"
   ]
  },
  {
   "cell_type": "code",
   "execution_count": 17,
   "metadata": {
    "tags": []
   },
   "outputs": [
    {
     "name": "stdout",
     "output_type": "stream",
     "text": [
      "\n",
      "Tổng\n",
      "No     151\n",
      "Yes     93\n",
      "Name: smoker, dtype: int64\n",
      "\n",
      "Tỷ lệ\n",
      "No     61.885246\n",
      "Yes    38.114754\n",
      "Name: smoker, dtype: float64\n"
     ]
    }
   ],
   "source": [
    "# 6. Có bao nhiêu người hút thuốc. Tỷ lệ bao nhiêu?\n",
    "Smoker_counts = data_df['smoker'].value_counts()\n",
    "Smoker_rate =  Smoker_counts/len(data_df) *100\n",
    "\n",
    "print(\"\\nTổng\")\n",
    "print(Smoker_counts)\n",
    "print(\"\\nTỷ lệ\")\n",
    "print(Smoker_rate)"
   ]
  },
  {
   "cell_type": "markdown",
   "metadata": {},
   "source": [
    "7. Ngày nào trong tuần khách hàng hay đến dùng bữa nhất. Tỷ lệ bao nhiêu?"
   ]
  },
  {
   "cell_type": "code",
   "execution_count": 15,
   "metadata": {
    "tags": []
   },
   "outputs": [
    {
     "name": "stdout",
     "output_type": "stream",
     "text": [
      "day\n",
      "Sat     87\n",
      "Sun     76\n",
      "Thur    62\n",
      "Fri     19\n",
      "Name: count, dtype: int64\n"
     ]
    }
   ],
   "source": [
    "if(data_df['day'].value_counts().min()):\n",
    "    print(data_df['day'].value_counts())"
   ]
  },
  {
   "cell_type": "markdown",
   "metadata": {},
   "source": [
    "8. Nhà hàng phục vụ bữa ăn nào nhiều nhất (Breakfast, Lunch, Dinner)?"
   ]
  },
  {
   "cell_type": "code",
   "execution_count": 19,
   "metadata": {
    "tags": []
   },
   "outputs": [
    {
     "name": "stdout",
     "output_type": "stream",
     "text": [
      "Dinner    176\n",
      "Lunch      68\n",
      "Name: time, dtype: int64\n"
     ]
    }
   ],
   "source": [
    "#8. Nhà hàng phục vụ bữa ăn nào nhiều nhất (Breakfast, Lunch, Dinner)?\n",
    "meal_counts = data_df[\"time\"].value_counts()\n",
    "\n",
    "print(meal_counts)"
   ]
  },
  {
   "cell_type": "markdown",
   "metadata": {},
   "source": [
    " 9. Nhóm khách hàng dùng bữa tại nhà hàng nhiều nhất là bao nhiêu người?"
   ]
  },
  {
   "cell_type": "code",
   "execution_count": 24,
   "metadata": {
    "tags": []
   },
   "outputs": [
    {
     "name": "stdout",
     "output_type": "stream",
     "text": [
      " Nhóm khách hàng dùng bữa tại nhà hàng nhiều nhất là \n",
      "2    156\n",
      "3     38\n",
      "4     37\n",
      "5      5\n",
      "6      4\n",
      "1      4\n",
      "Name: size, dtype: int64\n"
     ]
    }
   ],
   "source": [
    "# 9. Nhóm khách hàng dùng bữa tại nhà hàng nhiều nhất là bao nhiêu người?\n",
    "party_size_counts = data_df[\"size\"].value_counts()\n",
    "print(\" Nhóm khách hàng dùng bữa tại nhà hàng nhiều nhất là \")\n",
    "print(party_size_counts)"
   ]
  },
  {
   "cell_type": "markdown",
   "metadata": {},
   "source": [
    "10. Trung bình trong một bữa ăn nhà hàng phục vụ mấy khách?"
   ]
  },
  {
   "cell_type": "code",
   "execution_count": 23,
   "metadata": {
    "tags": []
   },
   "outputs": [
    {
     "name": "stdout",
     "output_type": "stream",
     "text": [
      "Trung bình trong một bữa ăn nhà hàng phục vụ:\n",
      "2.569672131147541\n"
     ]
    }
   ],
   "source": [
    "# 10. Trung bình trong một bữa ăn nhà hàng phục vụ mấy khách?\n",
    "avg_party_size = data_df[\"size\"].mean()\n",
    "print(\"Trung bình trong một bữa ăn nhà hàng phục vụ:\")\n",
    "print(avg_party_size)"
   ]
  },
  {
   "cell_type": "markdown",
   "metadata": {},
   "source": [
    "## YẾU TỐ ẢNH HƯỞNG ĐẾN TIỀN TIP\n",
    "\n",
    "Trong phần này, chúng ta thử tìm hiểu về tiền tip tại nhà hàng và các yếu tố có thể ảnh hưởng đến nó"
   ]
  },
  {
   "cell_type": "markdown",
   "metadata": {},
   "source": [
    "1. Tỷ lệ nhận được tiền tip của nhà hàng là bao nhiêu?\n",
    "2. Tỷ lệ tiền tip trên tổng hóa đơn là bao nhiêu?\n",
    "3. Giữa nam và nữ ai tip nhiều tiền hơn, ai tip thường xuyên hơn?\n",
    "4. Giữa người hút thuốc và người không hút thuốc ai tip nhiều tiền hơn, ai tip thường xuyên hơn?\n",
    "5. Thống kê tổng số tiền tip nhận được theo ngày."
   ]
  },
  {
   "cell_type": "markdown",
   "metadata": {},
   "source": [
    "1. Tỷ lệ nhận được tiền tip của nhà hàng là bao nhiêu?"
   ]
  },
  {
   "cell_type": "code",
   "execution_count": 48,
   "metadata": {
    "scrolled": true,
    "tags": []
   },
   "outputs": [
    {
     "name": "stdout",
     "output_type": "stream",
     "text": [
      "2.00    33\n",
      "3.00    23\n",
      "4.00    12\n",
      "5.00    10\n",
      "2.50    10\n",
      "        ..\n",
      "2.83     1\n",
      "1.58     1\n",
      "3.71     1\n",
      "3.35     1\n",
      "2.18     1\n",
      "Name: tip, Length: 123, dtype: int64\n",
      "\n",
      "Tỷ lệ: \n",
      "2.00    33\n",
      "3.00    23\n",
      "4.00    12\n",
      "5.00    10\n",
      "2.50    10\n",
      "        ..\n",
      "2.83     1\n",
      "1.58     1\n",
      "3.71     1\n",
      "3.35     1\n",
      "2.18     1\n",
      "Name: tip, Length: 123, dtype: int64\n"
     ]
    }
   ],
   "source": [
    "tip_counts = data_df[\"tip\"].value_counts()\n",
    "tip_rate = tip_counts/len(data_df) *100\n",
    "print(tip_counts)\n",
    "print(\"\\nTỷ lệ: \")\n",
    "print(tip_counts)"
   ]
  },
  {
   "cell_type": "markdown",
   "metadata": {},
   "source": [
    "2. Tỷ lệ tiền tip trên tổng hóa đơn là bao nhiêu?"
   ]
  },
  {
   "cell_type": "code",
   "execution_count": 22,
   "metadata": {
    "tags": []
   },
   "outputs": [
    {
     "name": "stdout",
     "output_type": "stream",
     "text": [
      "0.15153580224410024\n"
     ]
    }
   ],
   "source": [
    "tip_amounts = data_df[\"tip\"].dropna()\n",
    "bill_amounts = data_df[\"total_bill\"].dropna()\n",
    "\n",
    "average_tip_rate = tip_amounts.sum() / bill_amounts.sum()\n",
    "\n",
    "print(average_tip_rate)"
   ]
  },
  {
   "cell_type": "markdown",
   "metadata": {},
   "source": [
    "3. Giữa nam và nữ ai tip nhiều tiền hơn, ai tip thường xuyên hơn?"
   ]
  },
  {
   "cell_type": "code",
   "execution_count": 31,
   "metadata": {
    "tags": []
   },
   "outputs": [
    {
     "name": "stdout",
     "output_type": "stream",
     "text": [
      "3.0896178343949043 2.8334482758620685\n"
     ]
    }
   ],
   "source": [
    "# Giữa nam và nữ ai tip nhiều tiền hơn, ai tip thường xuyên hơn?\n",
    "male_tips = data_df.loc[data_df[\"sex\"] == \"Male\", \"tip\"].dropna()\n",
    "female_tips = data_df.loc[data_df[\"sex\"] == \"Female\", \"tip\"].dropna()\n",
    "\n",
    "male_tip_amounts = male_tips.sum()\n",
    "female_tip_amounts = female_tips.sum()\n",
    "\n",
    "male_tip_counts = male_tips.value_counts()\n",
    "female_tip_counts = female_tips.value_counts()\n",
    "\n",
    "male_average_tip_rate = male_tip_amounts / male_tips.size\n",
    "female_average_tip_rate = female_tip_amounts / female_tips.size\n",
    "\n",
    "print(male_average_tip_rate, female_average_tip_rate)"
   ]
  },
  {
   "cell_type": "markdown",
   "metadata": {},
   "source": [
    "4. Giữa người hút thuốc và người không hút thuốc ai tip nhiều tiền hơn, ai tip thường xuyên hơn?"
   ]
  },
  {
   "cell_type": "code",
   "execution_count": 26,
   "metadata": {
    "tags": []
   },
   "outputs": [
    {
     "name": "stdout",
     "output_type": "stream",
     "text": [
      "3.008709677419355 2.9918543046357615\n"
     ]
    }
   ],
   "source": [
    "# Giữa người hút thuốc và người không hút thuốc ai tip nhiều tiền hơn, ai tip thường xuyên hơn?\n",
    "smoker_tips = data_df.loc[data_df[\"smoker\"] == \"Yes\", \"tip\"].dropna()\n",
    "non_smoker_tips = data_df.loc[data_df[\"smoker\"] == \"No\", \"tip\"].dropna()\n",
    "\n",
    "smoker_tip_amounts = smoker_tips.sum()\n",
    "non_smoker_tip_amounts = non_smoker_tips.sum()\n",
    "\n",
    "smoker_tip_counts = smoker_tips.value_counts()\n",
    "non_smoker_tip_counts = non_smoker_tips.value_counts()\n",
    "\n",
    "smoker_average_tip_rate = smoker_tip_amounts / smoker_tips.size\n",
    "non_smoker_average_tip_rate = non_smoker_tip_amounts / non_smoker_tips.size\n",
    "\n",
    "print(smoker_average_tip_rate, non_smoker_average_tip_rate)"
   ]
  },
  {
   "cell_type": "markdown",
   "metadata": {},
   "source": [
    "5. Thống kê tổng số tiền tip nhận được theo ngày."
   ]
  },
  {
   "cell_type": "code",
   "execution_count": 32,
   "metadata": {
    "tags": []
   },
   "outputs": [
    {
     "name": "stdout",
     "output_type": "stream",
     "text": [
      "day\n",
      "Fri      51.96\n",
      "Sat     260.40\n",
      "Sun     247.39\n",
      "Thur    171.83\n",
      "Name: tip, dtype: float64\n"
     ]
    }
   ],
   "source": [
    "# Thống kê tổng số tiền tip nhận được theo ngày.\n",
    "day_tip_amounts = data_df.groupby(\"day\")[\"tip\"].sum()\n",
    "\n",
    "print(day_tip_amounts)"
   ]
  },
  {
   "cell_type": "markdown",
   "metadata": {},
   "source": [
    "# TRỰC QUAN DỮ LIỆU\n",
    "\n",
    "Để dễ hình dung, bạn hãy trực quan với một số câu hỏi sau đây:\n",
    "\n",
    "1. Vẽ đồ thị thể hiện tổng tiền tip theo ngày\n",
    "2. Vẽ đồ thị thể hiện tổng tiền tip theo bữa ăn (time)\n",
    "3. Vẽ đồ thị histogram của tổng hoá đơn\n",
    "4. Vẽ đồ thị boxplot của tổng hoá đơn\n",
    "5. Vẽ đồ thị để kiểm tra sự liên quan giữa tổng hoá đơn và tiền tip.\n",
    "6. So sánh số tiền mà khách hàng đã chi giữa các ngày trong tuần."
   ]
  },
  {
   "cell_type": "markdown",
   "metadata": {},
   "source": [
    "## Với Matplotlib\n",
    "\n",
    "Bạn hãy trực quan với thư viện matplotlib"
   ]
  },
  {
   "cell_type": "markdown",
   "metadata": {},
   "source": [
    "1. Vẽ đồ thị thể hiện tổng tiền tip theo ngày\n"
   ]
  },
  {
   "cell_type": "code",
   "execution_count": 33,
   "metadata": {
    "tags": []
   },
   "outputs": [
    {
     "data": {
      "image/png": "[encoded data removed]",
      "text/plain": [
       "<Figure size 432x288 with 1 Axes>"
      ]
     },
     "metadata": {
      "needs_background": "light"
     },
     "output_type": "display_data"
    }
   ],
   "source": [
    "import matplotlib.pyplot as plt\n",
    "\n",
    "plt.bar(day_tip_amounts.index, day_tip_amounts.values)\n",
    "plt.title(\"Tổng tiền tip theo ngày\")\n",
    "plt.xlabel(\"Ngày\")\n",
    "plt.ylabel(\"Tổng tiền tip\")\n",
    "plt.show()"
   ]
  },
  {
   "cell_type": "markdown",
   "metadata": {},
   "source": [
    "2. Vẽ đồ thị thể hiện tổng tiền tip theo bữa ăn (time)\n"
   ]
  },
  {
   "cell_type": "markdown",
   "metadata": {},
   "source": []
  },
  {
   "cell_type": "code",
   "execution_count": 37,
   "metadata": {
    "tags": []
   },
   "outputs": [
    {
     "data": {
      "image/png": "[encoded data removed]",
      "text/plain": [
       "<Figure size 432x288 with 1 Axes>"
      ]
     },
     "metadata": {
      "needs_background": "light"
     },
     "output_type": "display_data"
    }
   ],
   "source": [
    "import matplotlib.pyplot as plt\n",
    "\n",
    "meal_tip_amounts = data_df.groupby(\"time\")[\"tip\"].sum()\n",
    "plt.bar(meal_tip_amounts.index, meal_tip_amounts.values)\n",
    "plt.title(\"Tổng tiền tip theo bữa ăn\")\n",
    "plt.xlabel(\"Bữa ăn\")\n",
    "plt.ylabel(\"Tổng tiền tip\")\n",
    "plt.show()"
   ]
  },
  {
   "cell_type": "markdown",
   "metadata": {},
   "source": [
    "3. Vẽ đồ thị histogram của tổng hoá đơn\n"
   ]
  },
  {
   "cell_type": "code",
   "execution_count": 38,
   "metadata": {
    "tags": []
   },
   "outputs": [
    {
     "data": {
      "image/png": "[encoded data removed]",
      "text/plain": [
       "<Figure size 432x288 with 1 Axes>"
      ]
     },
     "metadata": {
      "needs_background": "light"
     },
     "output_type": "display_data"
    }
   ],
   "source": [
    "import matplotlib.pyplot as plt\n",
    "\n",
    "plt.hist(data_df[\"total_bill\"], bins=20)\n",
    "plt.title(\"Histogram của tổng hoá đơn\")\n",
    "plt.xlabel(\"Tổng hoá đơn\")\n",
    "plt.ylabel(\"Số lần xuất hiện\")\n",
    "plt.show()"
   ]
  },
  {
   "cell_type": "markdown",
   "metadata": {},
   "source": [
    "## Với Seaborn\n",
    "\n",
    "Bạn hãy tìm hiểu và trực quan với thư viện seaborn"
   ]
  },
  {
   "cell_type": "code",
   "execution_count": 44,
   "metadata": {
    "tags": []
   },
   "outputs": [
    {
     "data": {
      "image/png": "[encoded data removed]",
      "text/plain": [
       "<Figure size 432x288 with 1 Axes>"
      ]
     },
     "metadata": {
      "needs_background": "light"
     },
     "output_type": "display_data"
    }
   ],
   "source": [
    "import seaborn as sns\n",
    "\n",
    "sns.barplot(data=data_df, x=\"day\", y=\"tip\")\n",
    "plt.title(\"Tổng tiền tip theo ngày\")\n",
    "plt.show()"
   ]
  },
  {
   "cell_type": "code",
   "execution_count": 46,
   "metadata": {
    "tags": []
   },
   "outputs": [
    {
     "data": {
      "image/png": "[encoded data removed]",
      "text/plain": [
       "<Figure size 432x288 with 1 Axes>"
      ]
     },
     "metadata": {
      "needs_background": "light"
     },
     "output_type": "display_data"
    }
   ],
   "source": [
    "sns.barplot(data=data_df, x=\"time\", y=\"tip\")\n",
    "plt.title(\"Tổng tiền tip theo bữa ăn\")\n",
    "plt.show()"
   ]
  },
  {
   "cell_type": "code",
   "execution_count": 37,
   "metadata": {
    "tags": []
   },
   "outputs": [
    {
     "data": {
      "image/png": "[encoded data removed]",
      "text/plain": [
       "<Figure size 640x480 with 1 Axes>"
      ]
     },
     "metadata": {},
     "output_type": "display_data"
    }
   ],
   "source": [
    "sns.histplot(data=data_df[\"total_bill\"], bins=20)\n",
    "plt.title(\"Histogram của tổng hoá đơn\")\n",
    "plt.show()"
   ]
  },
  {
   "cell_type": "code",
   "execution_count": 40,
   "metadata": {
    "tags": []
   },
   "outputs": [
    {
     "data": {
      "image/png": "[encoded data removed]",
      "text/plain": [
       "<Figure size 640x480 with 1 Axes>"
      ]
     },
     "metadata": {},
     "output_type": "display_data"
    }
   ],
   "source": [
    "sns.boxplot(data=data_df[\"total_bill\"])\n",
    "plt.title(\"Boxplot của tổng hoá đơn\")\n",
    "plt.show()"
   ]
  },
  {
   "cell_type": "markdown",
   "metadata": {},
   "source": [
    "5. Vẽ đồ thị để kiểm tra sự liên quan giữa tổng hoá đơn và tiền tip"
   ]
  },
  {
   "cell_type": "code",
   "execution_count": 42,
   "metadata": {
    "tags": []
   },
   "outputs": [
    {
     "data": {
      "image/png": "[encoded data removed]",
      "text/plain": [
       "<Figure size 600x600 with 3 Axes>"
      ]
     },
     "metadata": {},
     "output_type": "display_data"
    }
   ],
   "source": [
    "sns.jointplot(data=data_df, x=\"total_bill\", y=\"tip\", kind=\"reg\")\n",
    "plt.title(\"Tiền tip và tổng hoá đơn\")\n",
    "plt.show()"
   ]
  },
  {
   "cell_type": "markdown",
   "metadata": {
    "tags": []
   },
   "source": [
    "6. So sánh số tiền mà khách hàng đã chi giữa các ngày trong tuần\n"
   ]
  },
  {
   "cell_type": "code",
   "execution_count": 47,
   "metadata": {
    "tags": []
   },
   "outputs": [
    {
     "data": {
      "image/png": "[encoded data removed]",
      "text/plain": [
       "<Figure size 360x360 with 1 Axes>"
      ]
     },
     "metadata": {
      "needs_background": "light"
     },
     "output_type": "display_data"
    }
   ],
   "source": [
    "sns.catplot(data=data_df, x=\"day\", y=\"total_bill\", kind=\"box\")\n",
    "plt.title(\"So sánh số tiền chi giữa các ngày trong tuần\")\n",
    "plt.show();"
   ]
  }
 ],
 "metadata": {
  "kernelspec": {
   "display_name": "Python 3",
   "language": "python",
   "name": "python3"
  },
  "language_info": {
   "codemirror_mode": {
    "name": "ipython",
    "version": 3
   },
   "file_extension": ".py",
   "mimetype": "text/x-python",
   "name": "python",
   "nbconvert_exporter": "python",
   "pygments_lexer": "ipython3",
   "version": "3.8.5"
  }
 },
 "nbformat": 4,
 "nbformat_minor": 5
}
